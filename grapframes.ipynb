{
 "cells": [
  {
   "cell_type": "code",
   "execution_count": 1,
   "id": "99514e10-9511-4332-83b6-e39e947421d3",
   "metadata": {},
   "outputs": [
    {
     "name": "stderr",
     "output_type": "stream",
     "text": [
      "Picked up _JAVA_OPTIONS: -Dawt.useSystemAAFontSettings=on -Dswing.aatext=true\n",
      "Picked up _JAVA_OPTIONS: -Dawt.useSystemAAFontSettings=on -Dswing.aatext=true\n",
      "25/01/02 06:28:29 WARN Utils: Your hostname, kali resolves to a loopback address: 127.0.1.1; using 192.168.72.129 instead (on interface eth0)\n",
      "25/01/02 06:28:29 WARN Utils: Set SPARK_LOCAL_IP if you need to bind to another address\n"
     ]
    },
    {
     "name": "stdout",
     "output_type": "stream",
     "text": [
      ":: loading settings :: url = jar:file:/home/kali/venvs/jupyter-env/lib/python3.12/site-packages/pyspark/jars/ivy-2.5.1.jar!/org/apache/ivy/core/settings/ivysettings.xml\n"
     ]
    },
    {
     "name": "stderr",
     "output_type": "stream",
     "text": [
      "Ivy Default Cache set to: /home/kali/.ivy2/cache\n",
      "The jars for the packages stored in: /home/kali/.ivy2/jars\n",
      "org.apache.spark#spark-sql-kafka-0-10_2.12 added as a dependency\n",
      "org.apache.kafka#kafka-clients added as a dependency\n",
      "graphframes#graphframes added as a dependency\n",
      ":: resolving dependencies :: org.apache.spark#spark-submit-parent-e42ac4ff-b93f-4385-9580-568ce14d51b7;1.0\n",
      "\tconfs: [default]\n",
      "\tfound org.apache.spark#spark-sql-kafka-0-10_2.12;3.5.3 in central\n",
      "\tfound org.apache.spark#spark-token-provider-kafka-0-10_2.12;3.5.3 in central\n",
      "\tfound org.apache.hadoop#hadoop-client-runtime;3.3.4 in central\n",
      "\tfound org.apache.hadoop#hadoop-client-api;3.3.4 in central\n",
      "\tfound org.xerial.snappy#snappy-java;1.1.10.5 in central\n",
      "\tfound org.slf4j#slf4j-api;2.0.7 in central\n",
      "\tfound commons-logging#commons-logging;1.1.3 in central\n",
      "\tfound com.google.code.findbugs#jsr305;3.0.0 in central\n",
      "\tfound org.apache.commons#commons-pool2;2.11.1 in central\n",
      "\tfound org.apache.kafka#kafka-clients;3.5.0 in central\n",
      "\tfound com.github.luben#zstd-jni;1.5.5-1 in central\n",
      "\tfound org.lz4#lz4-java;1.8.0 in central\n",
      "\tfound graphframes#graphframes;0.8.2-spark3.0-s_2.12 in spark-packages\n",
      ":: resolution report :: resolve 333ms :: artifacts dl 12ms\n",
      "\t:: modules in use:\n",
      "\tcom.github.luben#zstd-jni;1.5.5-1 from central in [default]\n",
      "\tcom.google.code.findbugs#jsr305;3.0.0 from central in [default]\n",
      "\tcommons-logging#commons-logging;1.1.3 from central in [default]\n",
      "\tgraphframes#graphframes;0.8.2-spark3.0-s_2.12 from spark-packages in [default]\n",
      "\torg.apache.commons#commons-pool2;2.11.1 from central in [default]\n",
      "\torg.apache.hadoop#hadoop-client-api;3.3.4 from central in [default]\n",
      "\torg.apache.hadoop#hadoop-client-runtime;3.3.4 from central in [default]\n",
      "\torg.apache.kafka#kafka-clients;3.5.0 from central in [default]\n",
      "\torg.apache.spark#spark-sql-kafka-0-10_2.12;3.5.3 from central in [default]\n",
      "\torg.apache.spark#spark-token-provider-kafka-0-10_2.12;3.5.3 from central in [default]\n",
      "\torg.lz4#lz4-java;1.8.0 from central in [default]\n",
      "\torg.slf4j#slf4j-api;2.0.7 from central in [default]\n",
      "\torg.xerial.snappy#snappy-java;1.1.10.5 from central in [default]\n",
      "\t:: evicted modules:\n",
      "\torg.apache.kafka#kafka-clients;3.4.1 by [org.apache.kafka#kafka-clients;3.5.0] in [default]\n",
      "\torg.xerial.snappy#snappy-java;1.1.10.0 by [org.xerial.snappy#snappy-java;1.1.10.5] in [default]\n",
      "\torg.slf4j#slf4j-api;1.7.36 by [org.slf4j#slf4j-api;2.0.7] in [default]\n",
      "\torg.slf4j#slf4j-api;1.7.16 by [org.slf4j#slf4j-api;2.0.7] in [default]\n",
      "\t---------------------------------------------------------------------\n",
      "\t|                  |            modules            ||   artifacts   |\n",
      "\t|       conf       | number| search|dwnlded|evicted|| number|dwnlded|\n",
      "\t---------------------------------------------------------------------\n",
      "\t|      default     |   17  |   0   |   0   |   4   ||   13  |   0   |\n",
      "\t---------------------------------------------------------------------\n",
      ":: retrieving :: org.apache.spark#spark-submit-parent-e42ac4ff-b93f-4385-9580-568ce14d51b7\n",
      "\tconfs: [default]\n",
      "\t0 artifacts copied, 13 already retrieved (0kB/8ms)\n",
      "25/01/02 06:28:30 WARN NativeCodeLoader: Unable to load native-hadoop library for your platform... using builtin-java classes where applicable\n",
      "Setting default log level to \"WARN\".\n",
      "To adjust logging level use sc.setLogLevel(newLevel). For SparkR, use setLogLevel(newLevel).\n"
     ]
    },
    {
     "name": "stdout",
     "output_type": "stream",
     "text": [
      "Checkpoint directory set successfully!\n"
     ]
    }
   ],
   "source": [
    "from pyspark.sql import SparkSession\n",
    "\n",
    "spark = SparkSession.builder \\\n",
    "    .master(\"local[*]\") \\\n",
    "    .appName(\"KafkaGraphFramesAnalysis\") \\\n",
    "    .config(\"spark.executor.memory\", \"8g\") \\\n",
    "    .config(\"spark.driver.memory\", \"2g\") \\\n",
    "    .config(\"spark.sql.shuffle.partitions\", \"200\") \\\n",
    "    .config(\"spark.jars.packages\", \n",
    "            \"org.apache.spark:spark-sql-kafka-0-10_2.12:3.5.3,\"\n",
    "            \"org.apache.kafka:kafka-clients:3.5.0,\"\n",
    "            \"graphframes:graphframes:0.8.2-spark3.0-s_2.12\") \\\n",
    "    .getOrCreate()\n",
    "spark.sparkContext.setCheckpointDir(\"file:///tmp/graphframes_checkpoint\")\n",
    "print(\"Checkpoint directory set successfully!\")\n"
   ]
  },
  {
   "cell_type": "code",
   "execution_count": 2,
   "id": "6b7ee91c-68a3-4aee-ad33-d0988fd603b9",
   "metadata": {},
   "outputs": [],
   "source": [
    "from graphframes import GraphFrame\n"
   ]
  },
  {
   "cell_type": "code",
   "execution_count": 3,
   "id": "954e300d-3d89-4678-a116-fcc92f188449",
   "metadata": {},
   "outputs": [
    {
     "name": "stdout",
     "output_type": "stream",
     "text": [
      "root\n",
      " |-- value: string (nullable = true)\n",
      "\n"
     ]
    }
   ],
   "source": [
    "df_streaming = spark.readStream \\\n",
    "    .format(\"kafka\") \\\n",
    "    .option(\"kafka.bootstrap.servers\", \"localhost:9092\") \\\n",
    "    .option(\"subscribe\", \"digitransit_data\") \\\n",
    "    .load()\n",
    "\n",
    "df_streaming = df_streaming.selectExpr(\"CAST(value AS STRING)\")\n",
    "df_streaming.printSchema()"
   ]
  },
  {
   "cell_type": "code",
   "execution_count": 4,
   "id": "9cdbdfdb-a487-452c-96e3-604eb021e75f",
   "metadata": {},
   "outputs": [
    {
     "name": "stdout",
     "output_type": "stream",
     "text": [
      "root\n",
      " |-- data: struct (nullable = true)\n",
      " |    |-- data: struct (nullable = true)\n",
      " |    |    |-- plan: struct (nullable = true)\n",
      " |    |    |    |-- itineraries: array (nullable = true)\n",
      " |    |    |    |    |-- element: struct (containsNull = true)\n",
      " |    |    |    |    |    |-- walkDistance: double (nullable = true)\n",
      " |    |    |    |    |    |-- duration: integer (nullable = true)\n",
      " |    |    |    |    |    |-- legs: array (nullable = true)\n",
      " |    |    |    |    |    |    |-- element: struct (containsNull = true)\n",
      " |    |    |    |    |    |    |    |-- mode: string (nullable = true)\n",
      " |    |    |    |    |    |    |    |-- startTime: long (nullable = true)\n",
      " |    |    |    |    |    |    |    |-- endTime: long (nullable = true)\n",
      " |    |    |    |    |    |    |    |-- from: struct (nullable = true)\n",
      " |    |    |    |    |    |    |    |    |-- lat: double (nullable = true)\n",
      " |    |    |    |    |    |    |    |    |-- lon: double (nullable = true)\n",
      " |    |    |    |    |    |    |    |    |-- name: string (nullable = true)\n",
      " |    |    |    |    |    |    |    |    |-- stop: struct (nullable = true)\n",
      " |    |    |    |    |    |    |    |    |    |-- patterns: array (nullable = true)\n",
      " |    |    |    |    |    |    |    |    |    |    |-- element: struct (containsNull = true)\n",
      " |    |    |    |    |    |    |    |    |    |    |    |-- code: string (nullable = true)\n",
      " |    |    |    |    |    |    |    |-- to: struct (nullable = true)\n",
      " |    |    |    |    |    |    |    |    |-- lat: double (nullable = true)\n",
      " |    |    |    |    |    |    |    |    |-- lon: double (nullable = true)\n",
      " |    |    |    |    |    |    |    |    |-- name: string (nullable = true)\n",
      " |    |    |    |    |    |    |    |    |-- stop: struct (nullable = true)\n",
      " |    |    |    |    |    |    |    |    |    |-- patterns: array (nullable = true)\n",
      " |    |    |    |    |    |    |    |    |    |    |-- element: struct (containsNull = true)\n",
      " |    |    |    |    |    |    |    |    |    |    |    |-- code: string (nullable = true)\n",
      " |    |    |    |    |    |    |    |-- trip: struct (nullable = true)\n",
      " |    |    |    |    |    |    |    |    |-- gtfsId: string (nullable = true)\n",
      " |    |    |    |    |    |    |    |    |-- pattern: struct (nullable = true)\n",
      " |    |    |    |    |    |    |    |    |    |-- trip_pattern_code: string (nullable = true)\n",
      " |    |    |    |    |    |    |    |    |-- tripHeadsign: string (nullable = true)\n",
      "\n"
     ]
    }
   ],
   "source": [
    "from pyspark.sql import functions as F\n",
    "from pyspark.sql.functions import col, from_json, from_unixtime, decode\n",
    "from pyspark.sql.types import StructType, StructField, ArrayType, StringType, DoubleType, LongType, IntegerType\n",
    "\n",
    "# Define the schema for the JSON data\n",
    "schema = StructType([\n",
    "    StructField(\"data\", StructType([\n",
    "        StructField(\"plan\", StructType([\n",
    "            StructField(\"itineraries\", ArrayType(StructType([\n",
    "                StructField(\"walkDistance\", DoubleType()),\n",
    "                StructField(\"duration\", IntegerType()),\n",
    "                StructField(\"legs\", ArrayType(StructType([\n",
    "                    StructField(\"mode\", StringType()),\n",
    "                    StructField(\"startTime\", LongType()),\n",
    "                    StructField(\"endTime\", LongType()),\n",
    "                    StructField(\"from\", StructType([\n",
    "                        StructField(\"lat\", DoubleType()),\n",
    "                        StructField(\"lon\", DoubleType()),\n",
    "                        StructField(\"name\", StringType()),\n",
    "                        StructField(\"stop\", StructType([\n",
    "                            StructField(\"patterns\", ArrayType(StructType([\n",
    "                                StructField(\"code\", StringType(), True)                          \n",
    "                            ])))\n",
    "                        ]))\n",
    "                    ])),\n",
    "                    StructField(\"to\", StructType([\n",
    "                        StructField(\"lat\", DoubleType()),\n",
    "                        StructField(\"lon\", DoubleType()),\n",
    "                        StructField(\"name\", StringType()),\n",
    "                        StructField(\"stop\", StructType([\n",
    "                            StructField(\"patterns\", ArrayType(StructType([\n",
    "                                StructField(\"code\", StringType(), True)                       \n",
    "                            ])))\n",
    "                        ]))\n",
    "                    ])),\n",
    "                    StructField(\"trip\", StructType([\n",
    "                        StructField(\"gtfsId\", StringType()),\n",
    "                        StructField(\"pattern\", StructType([\n",
    "                            StructField(\"trip_pattern_code\", StringType(), True)                        \n",
    "                        ])),\n",
    "                                StructField(\"tripHeadsign\", StringType())\n",
    "                    ]))\n",
    "                ])))\n",
    "            ])))\n",
    "        ]))\n",
    "    ]))\n",
    "])\n",
    "\n",
    "df_parsed = df_streaming.select(\n",
    "    from_json(decode(col(\"value\"), \"UTF-8\"), schema).alias(\"data\")\n",
    ")\n",
    "df_parsed.printSchema()"
   ]
  },
  {
   "cell_type": "code",
   "execution_count": 5,
   "id": "848371c1-d1d8-4b8d-aeef-ad2d3b13e526",
   "metadata": {},
   "outputs": [
    {
     "name": "stdout",
     "output_type": "stream",
     "text": [
      "root\n",
      " |-- src: string (nullable = true)\n",
      " |-- dst: string (nullable = true)\n",
      " |-- trip_id: string (nullable = true)\n",
      " |-- mode: string (nullable = true)\n",
      "\n"
     ]
    }
   ],
   "source": [
    "from pyspark.sql import functions as F\n",
    "from pyspark.sql.functions import explode, col, date_format\n",
    "\n",
    "# Flatten the nested \"legs\" array \n",
    "df_legs = df_parsed.select(\n",
    "    F.explode(col(\"data.data.plan.itineraries.legs\")).alias(\"leg\")\n",
    ")\n",
    "\n",
    "#Create Vertices \n",
    "df_vertices = df_legs.select(\n",
    "    explode(col(\"leg.from.name\")).alias(\"id\")  \n",
    ").union(\n",
    "    df_legs.select(explode(col(\"leg.to.name\")).alias(\"id\"))  \n",
    ").distinct()\n",
    "\n",
    "\n",
    "# Create Edges \n",
    "df_edges = df_legs.select(\n",
    "    explode(col(\"leg.from.name\")).alias(\"src\"),               \n",
    "    explode(col(\"leg.to.name\")).alias(\"dst\"),                 \n",
    "    explode(col(\"leg.trip.gtfsId\")).alias(\"trip_id\"),         \n",
    "    explode(col(\"leg.mode\")).alias(\"mode\"),                   \n",
    ")\n",
    "\n",
    "df_edges.printSchema()\n"
   ]
  },
  {
   "cell_type": "code",
   "execution_count": 6,
   "id": "dbf96702-7e2b-44ef-a14c-e83a1feeaad0",
   "metadata": {},
   "outputs": [
    {
     "name": "stderr",
     "output_type": "stream",
     "text": [
      "25/01/02 06:28:35 WARN ResolveWriteToStream: Temporary checkpoint location created which is deleted normally when the query didn't fail: /tmp/temporary-d0ddd0a1-1bc3-42f5-8929-b05e6394279a. If it's required to delete it under any circumstances, please set spark.sql.streaming.forceDeleteTempCheckpointLocation to true. Important to know deleting temp checkpoint folder is best effort.\n",
      "25/01/02 06:28:35 WARN ResolveWriteToStream: spark.sql.adaptive.enabled is not supported in streaming DataFrames/Datasets and will be disabled.\n",
      "25/01/02 06:28:35 WARN ResolveWriteToStream: Temporary checkpoint location created which is deleted normally when the query didn't fail: /tmp/temporary-c01d2c1d-9df7-4ed2-9790-63c3eccd9fd4. If it's required to delete it under any circumstances, please set spark.sql.streaming.forceDeleteTempCheckpointLocation to true. Important to know deleting temp checkpoint folder is best effort.\n",
      "25/01/02 06:28:35 WARN ResolveWriteToStream: spark.sql.adaptive.enabled is not supported in streaming DataFrames/Datasets and will be disabled.\n"
     ]
    }
   ],
   "source": [
    "# Write vertices and edges to memory\n",
    "vertices_query = df_vertices.writeStream \\\n",
    "    .format(\"memory\") \\\n",
    "    .queryName(\"vertices_stream\") \\\n",
    "    .outputMode(\"append\") \\\n",
    "    .start()\n",
    "edges_query = df_edges.writeStream \\\n",
    "    .format(\"memory\") \\\n",
    "    .queryName(\"edges_stream\") \\\n",
    "    .outputMode(\"append\") \\\n",
    "    .start()\n",
    "\n"
   ]
  },
  {
   "cell_type": "code",
   "execution_count": 13,
   "id": "b9c411ce-8dd0-4fae-9f9e-6d13921ea234",
   "metadata": {},
   "outputs": [
    {
     "name": "stdout",
     "output_type": "stream",
     "text": [
      "+------------------+\n",
      "|                id|\n",
      "+------------------+\n",
      "|       Destination|\n",
      "|            Origin|\n",
      "|         Tupasaari|\n",
      "|Asemapäällikönkatu|\n",
      "|     Pasilan asema|\n",
      "+------------------+\n",
      "\n",
      "+------------------+------------------+--------------------+----+\n",
      "|               src|               dst|             trip_id|mode|\n",
      "+------------------+------------------+--------------------+----+\n",
      "|            Origin|Asemapäällikönkatu|                NULL|WALK|\n",
      "|            Origin|Asemapäällikönkatu|                NULL| BUS|\n",
      "|            Origin|Asemapäällikönkatu|                NULL|WALK|\n",
      "|            Origin|Asemapäällikönkatu|HSL:1059_20250101...|WALK|\n",
      "|            Origin|Asemapäällikönkatu|HSL:1059_20250101...| BUS|\n",
      "|            Origin|Asemapäällikönkatu|HSL:1059_20250101...|WALK|\n",
      "|            Origin|Asemapäällikönkatu|                NULL|WALK|\n",
      "|            Origin|Asemapäällikönkatu|                NULL| BUS|\n",
      "|            Origin|Asemapäällikönkatu|                NULL|WALK|\n",
      "|            Origin|         Tupasaari|                NULL|WALK|\n",
      "|            Origin|         Tupasaari|                NULL| BUS|\n",
      "|            Origin|         Tupasaari|                NULL|WALK|\n",
      "|            Origin|         Tupasaari|HSL:1059_20250101...|WALK|\n",
      "|            Origin|         Tupasaari|HSL:1059_20250101...| BUS|\n",
      "|            Origin|         Tupasaari|HSL:1059_20250101...|WALK|\n",
      "|            Origin|         Tupasaari|                NULL|WALK|\n",
      "|            Origin|         Tupasaari|                NULL| BUS|\n",
      "|            Origin|         Tupasaari|                NULL|WALK|\n",
      "|            Origin|       Destination|                NULL|WALK|\n",
      "|            Origin|       Destination|                NULL| BUS|\n",
      "|            Origin|       Destination|                NULL|WALK|\n",
      "|            Origin|       Destination|HSL:1059_20250101...|WALK|\n",
      "|            Origin|       Destination|HSL:1059_20250101...| BUS|\n",
      "|            Origin|       Destination|HSL:1059_20250101...|WALK|\n",
      "|            Origin|       Destination|                NULL|WALK|\n",
      "|            Origin|       Destination|                NULL| BUS|\n",
      "|            Origin|       Destination|                NULL|WALK|\n",
      "|Asemapäällikönkatu|Asemapäällikönkatu|                NULL|WALK|\n",
      "|Asemapäällikönkatu|Asemapäällikönkatu|                NULL| BUS|\n",
      "|Asemapäällikönkatu|Asemapäällikönkatu|                NULL|WALK|\n",
      "|Asemapäällikönkatu|Asemapäällikönkatu|HSL:1059_20250101...|WALK|\n",
      "|Asemapäällikönkatu|Asemapäällikönkatu|HSL:1059_20250101...| BUS|\n",
      "|Asemapäällikönkatu|Asemapäällikönkatu|HSL:1059_20250101...|WALK|\n",
      "|Asemapäällikönkatu|Asemapäällikönkatu|                NULL|WALK|\n",
      "|Asemapäällikönkatu|Asemapäällikönkatu|                NULL| BUS|\n",
      "|Asemapäällikönkatu|Asemapäällikönkatu|                NULL|WALK|\n",
      "|Asemapäällikönkatu|         Tupasaari|                NULL|WALK|\n",
      "|Asemapäällikönkatu|         Tupasaari|                NULL| BUS|\n",
      "|Asemapäällikönkatu|         Tupasaari|                NULL|WALK|\n",
      "|Asemapäällikönkatu|         Tupasaari|HSL:1059_20250101...|WALK|\n",
      "+------------------+------------------+--------------------+----+\n",
      "only showing top 40 rows\n",
      "\n"
     ]
    }
   ],
   "source": [
    "# Read vertices snapshot as a static DataFrame\n",
    "static_vertices = spark.sql(\"SELECT * FROM vertices_stream\")\n",
    "\n",
    "# Read edges snapshot as a static DataFrame\n",
    "static_edges = spark.sql(\"SELECT * FROM edges_stream\")\n",
    "\n",
    "# Display snapshots\n",
    "static_vertices.show()\n",
    "static_edges.show(40)\n"
   ]
  },
  {
   "cell_type": "code",
   "execution_count": 14,
   "id": "f2500383-7640-4dfa-99ef-700517e7c68c",
   "metadata": {},
   "outputs": [
    {
     "name": "stderr",
     "output_type": "stream",
     "text": [
      "/home/kali/venvs/jupyter-env/lib/python3.12/site-packages/pyspark/sql/dataframe.py:168: UserWarning: DataFrame.sql_ctx is an internal property, and will be removed in future releases. Use DataFrame.sparkSession instead.\n",
      "  warnings.warn(\n"
     ]
    }
   ],
   "source": [
    "from graphframes import GraphFrame\n",
    "\n",
    "g = GraphFrame(static_vertices, static_edges)"
   ]
  },
  {
   "cell_type": "code",
   "execution_count": 15,
   "id": "b2cf5758-b861-41e4-a277-48402d6e94b4",
   "metadata": {},
   "outputs": [
    {
     "name": "stdout",
     "output_type": "stream",
     "text": [
      "+------------------+\n",
      "|                id|\n",
      "+------------------+\n",
      "|       Destination|\n",
      "|            Origin|\n",
      "|         Tupasaari|\n",
      "|Asemapäällikönkatu|\n",
      "|     Pasilan asema|\n",
      "+------------------+\n",
      "\n",
      "+------+------------------+--------------------+----+\n",
      "|   src|               dst|             trip_id|mode|\n",
      "+------+------------------+--------------------+----+\n",
      "|Origin|Asemapäällikönkatu|                NULL|WALK|\n",
      "|Origin|Asemapäällikönkatu|                NULL| BUS|\n",
      "|Origin|Asemapäällikönkatu|                NULL|WALK|\n",
      "|Origin|Asemapäällikönkatu|HSL:1059_20250101...|WALK|\n",
      "|Origin|Asemapäällikönkatu|HSL:1059_20250101...| BUS|\n",
      "|Origin|Asemapäällikönkatu|HSL:1059_20250101...|WALK|\n",
      "|Origin|Asemapäällikönkatu|                NULL|WALK|\n",
      "|Origin|Asemapäällikönkatu|                NULL| BUS|\n",
      "|Origin|Asemapäällikönkatu|                NULL|WALK|\n",
      "|Origin|         Tupasaari|                NULL|WALK|\n",
      "|Origin|         Tupasaari|                NULL| BUS|\n",
      "|Origin|         Tupasaari|                NULL|WALK|\n",
      "|Origin|         Tupasaari|HSL:1059_20250101...|WALK|\n",
      "|Origin|         Tupasaari|HSL:1059_20250101...| BUS|\n",
      "|Origin|         Tupasaari|HSL:1059_20250101...|WALK|\n",
      "|Origin|         Tupasaari|                NULL|WALK|\n",
      "|Origin|         Tupasaari|                NULL| BUS|\n",
      "|Origin|         Tupasaari|                NULL|WALK|\n",
      "|Origin|       Destination|                NULL|WALK|\n",
      "|Origin|       Destination|                NULL| BUS|\n",
      "+------+------------------+--------------------+----+\n",
      "only showing top 20 rows\n",
      "\n"
     ]
    },
    {
     "name": "stderr",
     "output_type": "stream",
     "text": [
      "[Stage 35:=====>                                                 (20 + 4) / 200]\r"
     ]
    }
   ],
   "source": [
    "g.vertices.show()\n",
    "g.edges.show()\n",
    "\n"
   ]
  },
  {
   "cell_type": "code",
   "execution_count": 16,
   "id": "ade9b55b-7b1f-4448-94dd-dad1f9aa2573",
   "metadata": {},
   "outputs": [
    {
     "name": "stderr",
     "output_type": "stream",
     "text": [
      "                                                                                \r"
     ]
    },
    {
     "name": "stdout",
     "output_type": "stream",
     "text": [
      "+------------------+--------+\n",
      "|                id|inDegree|\n",
      "+------------------+--------+\n",
      "|       Destination|     729|\n",
      "|         Tupasaari|     729|\n",
      "|Asemapäällikönkatu|     513|\n",
      "|     Pasilan asema|     216|\n",
      "+------------------+--------+\n",
      "\n",
      "+------------------+---------+\n",
      "|                id|outDegree|\n",
      "+------------------+---------+\n",
      "|            Origin|      729|\n",
      "|         Tupasaari|      729|\n",
      "|Asemapäällikönkatu|      513|\n",
      "|     Pasilan asema|      216|\n",
      "+------------------+---------+\n",
      "\n"
     ]
    }
   ],
   "source": [
    "in_degree = g.inDegrees\n",
    "in_degree.show()\n",
    "\n",
    "out_degree = g.outDegrees\n",
    "out_degree.show()\n"
   ]
  },
  {
   "cell_type": "code",
   "execution_count": 46,
   "id": "a995edf0-e1e1-4495-a3a5-20744b444de6",
   "metadata": {},
   "outputs": [
    {
     "data": {
      "image/png": "[encoded data removed]",
      "text/plain": [
       "<Figure size 600x600 with 1 Axes>"
      ]
     },
     "metadata": {},
     "output_type": "display_data"
    },
    {
     "name": "stderr",
     "output_type": "stream",
     "text": [
      "                                                                                \r"
     ]
    }
   ],
   "source": [
    "from pyspark.sql import functions as F\n",
    "import networkx as nx\n",
    "import matplotlib.pyplot as plt\n",
    "import random\n",
    "import numpy as np\n",
    "\n",
    "# Convert the vertices (stops) and edges (routes) DataFrames to Pandas\n",
    "vertices_df = g.vertices.toPandas()\n",
    "edges_df = g.edges.toPandas()\n",
    "\n",
    "# Create a directed graph\n",
    "G = nx.DiGraph()\n",
    "\n",
    "# Add nodes (vertices) to the NetworkX graph\n",
    "for index, row in vertices_df.iterrows():\n",
    "    node_id = row['id']\n",
    "    G.add_node(node_id)  \n",
    "\n",
    "# Add edges to the NetworkX graph\n",
    "for index, row in edges_df.iterrows():\n",
    "    src = row['src']\n",
    "    dst = row['dst']\n",
    "    G.add_edge(src, dst)  \n",
    "\n",
    "# Compute in-degrees and out-degrees for each node\n",
    "in_degrees = dict(G.in_degree())\n",
    "out_degrees = dict(G.out_degree())\n",
    "\n",
    "# Assign in-degrees and out-degrees as node attributes\n",
    "for node in G.nodes:\n",
    "    G.nodes[node]['in_degree'] = in_degrees.get(node, 0)\n",
    "    G.nodes[node]['out_degree'] = out_degrees.get(node, 0)\n",
    "\n",
    "# Limit the number of nodes and edges to display\n",
    "max_nodes = 15  \n",
    "max_edges = 20  \n",
    "\n",
    "# Randomly sample a subset of nodes and edges\n",
    "sampled_nodes = random.sample(list(G.nodes), min(max_nodes, len(G.nodes)))\n",
    "sampled_edges = random.sample(list(G.edges), min(max_edges, len(G.edges)))\n",
    "\n",
    "# Create a subgraph with sampled nodes and edges\n",
    "subgraph = G.subgraph(sampled_nodes).copy()\n",
    "subgraph.add_edges_from([edge for edge in sampled_edges if edge[0] in subgraph.nodes and edge[1] in subgraph.nodes])\n",
    "\n",
    "# Generate positions using a spring layout\n",
    "pos = nx.spring_layout(subgraph)\n",
    "\n",
    "# Plot the subgraph \n",
    "plt.figure(figsize=(6, 6))  \n",
    "nx.draw(\n",
    "    subgraph,\n",
    "    pos,\n",
    "    with_labels=False,  \n",
    "    node_size=600,\n",
    "    node_color='lightgreen',\n",
    "    edge_color='gray',\n",
    "    width=1\n",
    ")\n",
    "\n",
    "node_labels = {\n",
    "    node: f\"ID: {node}\\nIn: {subgraph.nodes[node]['in_degree']}, Out: {subgraph.nodes[node]['out_degree']}\"\n",
    "    for node in subgraph.nodes\n",
    "}\n",
    "\n",
    "offset_pos = {node: (x, y + 0.02) for node, (x, y) in pos.items()}\n",
    "nx.draw_networkx_labels(subgraph, pos=offset_pos, labels=node_labels, font_size=8)\n",
    "\n",
    "plt.title(\"Transit Network Subgraph\", fontsize=10)\n",
    "plt.show()\n"
   ]
  },
  {
   "cell_type": "code",
   "execution_count": 18,
   "id": "8c2d2174-6355-4c79-b588-2648d971992d",
   "metadata": {},
   "outputs": [
    {
     "name": "stdout",
     "output_type": "stream",
     "text": [
      "+--------+--------------------+--------------------+--------------------+--------------------+\n",
      "|       a|                   e|                   b|                   f|                   c|\n",
      "+--------+--------------------+--------------------+--------------------+--------------------+\n",
      "|{Origin}|{Origin, Asemapää...|{Asemapäällikönkatu}|{Asemapäällikönka...|       {Destination}|\n",
      "|{Origin}|{Origin, Asemapää...|{Asemapäällikönkatu}|{Asemapäällikönka...|       {Destination}|\n",
      "|{Origin}|{Origin, Asemapää...|{Asemapäällikönkatu}|{Asemapäällikönka...|       {Destination}|\n",
      "|{Origin}|{Origin, Asemapää...|{Asemapäällikönkatu}|{Asemapäällikönka...|       {Destination}|\n",
      "|{Origin}|{Origin, Asemapää...|{Asemapäällikönkatu}|{Asemapäällikönka...|       {Destination}|\n",
      "|{Origin}|{Origin, Asemapää...|{Asemapäällikönkatu}|{Asemapäällikönka...|       {Destination}|\n",
      "|{Origin}|{Origin, Asemapää...|{Asemapäällikönkatu}|{Asemapäällikönka...|       {Destination}|\n",
      "|{Origin}|{Origin, Asemapää...|{Asemapäällikönkatu}|{Asemapäällikönka...|       {Destination}|\n",
      "|{Origin}|{Origin, Asemapää...|{Asemapäällikönkatu}|{Asemapäällikönka...|       {Destination}|\n",
      "|{Origin}|{Origin, Asemapää...|{Asemapäällikönkatu}|{Asemapäällikönka...|         {Tupasaari}|\n",
      "|{Origin}|{Origin, Asemapää...|{Asemapäällikönkatu}|{Asemapäällikönka...|         {Tupasaari}|\n",
      "|{Origin}|{Origin, Asemapää...|{Asemapäällikönkatu}|{Asemapäällikönka...|         {Tupasaari}|\n",
      "|{Origin}|{Origin, Asemapää...|{Asemapäällikönkatu}|{Asemapäällikönka...|         {Tupasaari}|\n",
      "|{Origin}|{Origin, Asemapää...|{Asemapäällikönkatu}|{Asemapäällikönka...|         {Tupasaari}|\n",
      "|{Origin}|{Origin, Asemapää...|{Asemapäällikönkatu}|{Asemapäällikönka...|         {Tupasaari}|\n",
      "|{Origin}|{Origin, Asemapää...|{Asemapäällikönkatu}|{Asemapäällikönka...|         {Tupasaari}|\n",
      "|{Origin}|{Origin, Asemapää...|{Asemapäällikönkatu}|{Asemapäällikönka...|         {Tupasaari}|\n",
      "|{Origin}|{Origin, Asemapää...|{Asemapäällikönkatu}|{Asemapäällikönka...|         {Tupasaari}|\n",
      "|{Origin}|{Origin, Asemapää...|{Asemapäällikönkatu}|{Asemapäällikönka...|{Asemapäällikönkatu}|\n",
      "|{Origin}|{Origin, Asemapää...|{Asemapäällikönkatu}|{Asemapäällikönka...|{Asemapäällikönkatu}|\n",
      "+--------+--------------------+--------------------+--------------------+--------------------+\n",
      "only showing top 20 rows\n",
      "\n"
     ]
    },
    {
     "name": "stderr",
     "output_type": "stream",
     "text": [
      "                                                                                \r"
     ]
    }
   ],
   "source": [
    "# Find specific motifs in the graph\n",
    "motifs = g.find(\"(a)-[e]->(b); (b)-[f]->(c)\")\n",
    "motifs.show()\n"
   ]
  },
  {
   "cell_type": "code",
   "execution_count": 20,
   "id": "e58ebaa5-4edf-45ae-a04d-82ed398baba4",
   "metadata": {},
   "outputs": [
    {
     "name": "stderr",
     "output_type": "stream",
     "text": [
      "                                                                                \r"
     ]
    },
    {
     "name": "stdout",
     "output_type": "stream",
     "text": [
      "+--------+--------------------+-----------+\n",
      "|    from|                  e0|         to|\n",
      "+--------+--------------------+-----------+\n",
      "|{Origin}|{Origin, Tupasaar...|{Tupasaari}|\n",
      "|{Origin}|{Origin, Tupasaar...|{Tupasaari}|\n",
      "|{Origin}|{Origin, Tupasaar...|{Tupasaari}|\n",
      "|{Origin}|{Origin, Tupasaar...|{Tupasaari}|\n",
      "|{Origin}|{Origin, Tupasaar...|{Tupasaari}|\n",
      "|{Origin}|{Origin, Tupasaar...|{Tupasaari}|\n",
      "|{Origin}|{Origin, Tupasaar...|{Tupasaari}|\n",
      "|{Origin}|{Origin, Tupasaar...|{Tupasaari}|\n",
      "|{Origin}|{Origin, Tupasaar...|{Tupasaari}|\n",
      "|{Origin}|{Origin, Tupasaar...|{Tupasaari}|\n",
      "|{Origin}|{Origin, Tupasaar...|{Tupasaari}|\n",
      "|{Origin}|{Origin, Tupasaar...|{Tupasaari}|\n",
      "|{Origin}|{Origin, Tupasaar...|{Tupasaari}|\n",
      "|{Origin}|{Origin, Tupasaar...|{Tupasaari}|\n",
      "|{Origin}|{Origin, Tupasaar...|{Tupasaari}|\n",
      "|{Origin}|{Origin, Tupasaar...|{Tupasaari}|\n",
      "|{Origin}|{Origin, Tupasaar...|{Tupasaari}|\n",
      "|{Origin}|{Origin, Tupasaar...|{Tupasaari}|\n",
      "|{Origin}|{Origin, Tupasaar...|{Tupasaari}|\n",
      "|{Origin}|{Origin, Tupasaar...|{Tupasaari}|\n",
      "+--------+--------------------+-----------+\n",
      "only showing top 20 rows\n",
      "\n"
     ]
    },
    {
     "name": "stderr",
     "output_type": "stream",
     "text": [
      "[Stage 184:=======>                                              (28 + 4) / 200]\r"
     ]
    }
   ],
   "source": [
    "# Shortest path between 'Origin' and 'Destination'\n",
    "result = g.bfs(\n",
    "    fromExpr=\"id = 'Origin'\", \n",
    "    toExpr=\"id = 'Tupasaari'\"\n",
    ")\n",
    "result.show()\n"
   ]
  },
  {
   "cell_type": "code",
   "execution_count": 23,
   "id": "4ef5f274-8bb2-49f7-8e62-f18b47499ca8",
   "metadata": {},
   "outputs": [
    {
     "name": "stdout",
     "output_type": "stream",
     "text": [
      "+--------------------+--------------------+--------------------+\n",
      "|                   a|                   e|                   b|\n",
      "+--------------------+--------------------+--------------------+\n",
      "|            {Origin}|{Origin, Asemapää...|{Asemapäällikönkatu}|\n",
      "|            {Origin}|{Origin, Asemapää...|{Asemapäällikönkatu}|\n",
      "|            {Origin}|{Origin, Asemapää...|{Asemapäällikönkatu}|\n",
      "|            {Origin}|{Origin, Tupasaar...|         {Tupasaari}|\n",
      "|            {Origin}|{Origin, Tupasaar...|         {Tupasaari}|\n",
      "|            {Origin}|{Origin, Tupasaar...|         {Tupasaari}|\n",
      "|            {Origin}|{Origin, Destinat...|       {Destination}|\n",
      "|            {Origin}|{Origin, Destinat...|       {Destination}|\n",
      "|            {Origin}|{Origin, Destinat...|       {Destination}|\n",
      "|{Asemapäällikönkatu}|{Asemapäällikönka...|{Asemapäällikönkatu}|\n",
      "|{Asemapäällikönkatu}|{Asemapäällikönka...|{Asemapäällikönkatu}|\n",
      "|{Asemapäällikönkatu}|{Asemapäällikönka...|{Asemapäällikönkatu}|\n",
      "|{Asemapäällikönkatu}|{Asemapäällikönka...|         {Tupasaari}|\n",
      "|{Asemapäällikönkatu}|{Asemapäällikönka...|         {Tupasaari}|\n",
      "|{Asemapäällikönkatu}|{Asemapäällikönka...|         {Tupasaari}|\n",
      "|{Asemapäällikönkatu}|{Asemapäällikönka...|       {Destination}|\n",
      "|{Asemapäällikönkatu}|{Asemapäällikönka...|       {Destination}|\n",
      "|{Asemapäällikönkatu}|{Asemapäällikönka...|       {Destination}|\n",
      "|         {Tupasaari}|{Tupasaari, Asema...|{Asemapäällikönkatu}|\n",
      "|         {Tupasaari}|{Tupasaari, Asema...|{Asemapäällikönkatu}|\n",
      "+--------------------+--------------------+--------------------+\n",
      "only showing top 20 rows\n",
      "\n"
     ]
    }
   ],
   "source": [
    "# Find all trips with mode 'BUS'\n",
    "bus_trips = g.find(\"(a)-[e]->(b)\").filter(\"e.mode == 'BUS'\")\n",
    "bus_trips.show()\n"
   ]
  },
  {
   "cell_type": "code",
   "execution_count": 26,
   "id": "fbb8c9d8-3fed-4ff2-a5d8-b396016532f7",
   "metadata": {},
   "outputs": [
    {
     "name": "stdout",
     "output_type": "stream",
     "text": [
      "+--------------------+--------------------+--------------------+\n",
      "|                   b|                   e|                   f|\n",
      "+--------------------+--------------------+--------------------+\n",
      "|            {Origin}|{Origin, Asemapää...|{Asemapäällikönkatu}|\n",
      "|            {Origin}|{Origin, Asemapää...|{Asemapäällikönkatu}|\n",
      "|            {Origin}|{Origin, Asemapää...|{Asemapäällikönkatu}|\n",
      "|            {Origin}|{Origin, Asemapää...|{Asemapäällikönkatu}|\n",
      "|            {Origin}|{Origin, Sturenka...|        {Sturenkatu}|\n",
      "|            {Origin}|{Origin, Sturenka...|        {Sturenkatu}|\n",
      "|            {Origin}|{Origin, Sturenka...|        {Sturenkatu}|\n",
      "|            {Origin}|{Origin, Sturenka...|        {Sturenkatu}|\n",
      "|            {Origin}|{Origin, Tupasaar...|         {Tupasaari}|\n",
      "|            {Origin}|{Origin, Tupasaar...|         {Tupasaari}|\n",
      "|            {Origin}|{Origin, Tupasaar...|         {Tupasaari}|\n",
      "|            {Origin}|{Origin, Tupasaar...|         {Tupasaari}|\n",
      "|            {Origin}|{Origin, Destinat...|       {Destination}|\n",
      "|            {Origin}|{Origin, Destinat...|       {Destination}|\n",
      "|            {Origin}|{Origin, Destinat...|       {Destination}|\n",
      "|            {Origin}|{Origin, Destinat...|       {Destination}|\n",
      "|{Asemapäällikönkatu}|{Asemapäällikönka...|{Asemapäällikönkatu}|\n",
      "|{Asemapäällikönkatu}|{Asemapäällikönka...|{Asemapäällikönkatu}|\n",
      "|{Asemapäällikönkatu}|{Asemapäällikönka...|{Asemapäällikönkatu}|\n",
      "|{Asemapäällikönkatu}|{Asemapäällikönka...|{Asemapäällikönkatu}|\n",
      "+--------------------+--------------------+--------------------+\n",
      "only showing top 20 rows\n",
      "\n"
     ]
    },
    {
     "name": "stderr",
     "output_type": "stream",
     "text": [
      "                                                                                \r"
     ]
    }
   ],
   "source": [
    "# Find all trips with mode 'BUS'\n",
    "bus_trips = g.find(\"(b)-[e]->(f)\").filter(\"e.mode == 'TRAM'\")\n",
    "bus_trips.show()\n"
   ]
  },
  {
   "cell_type": "code",
   "execution_count": 48,
   "id": "e5c2ef76-d74a-472a-a99d-62342b2aeb75",
   "metadata": {
    "scrolled": true
   },
   "outputs": [
    {
     "name": "stdout",
     "output_type": "stream",
     "text": [
      "+--------------------+--------------------+--------------------+\n",
      "|                   a|                   e|                   b|\n",
      "+--------------------+--------------------+--------------------+\n",
      "|            {Origin}|{Origin, Asemapää...|{Asemapäällikönkatu}|\n",
      "|            {Origin}|{Origin, Asemapää...|{Asemapäällikönkatu}|\n",
      "|            {Origin}|{Origin, Asemapää...|{Asemapäällikönkatu}|\n",
      "|            {Origin}|{Origin, Asemapää...|{Asemapäällikönkatu}|\n",
      "|            {Origin}|{Origin, Asemapää...|{Asemapäällikönkatu}|\n",
      "|            {Origin}|{Origin, Asemapää...|{Asemapäällikönkatu}|\n",
      "|            {Origin}|{Origin, Tupasaar...|         {Tupasaari}|\n",
      "|            {Origin}|{Origin, Tupasaar...|         {Tupasaari}|\n",
      "|            {Origin}|{Origin, Tupasaar...|         {Tupasaari}|\n",
      "|            {Origin}|{Origin, Tupasaar...|         {Tupasaari}|\n",
      "|            {Origin}|{Origin, Tupasaar...|         {Tupasaari}|\n",
      "|            {Origin}|{Origin, Tupasaar...|         {Tupasaari}|\n",
      "|            {Origin}|{Origin, Destinat...|       {Destination}|\n",
      "|            {Origin}|{Origin, Destinat...|       {Destination}|\n",
      "|            {Origin}|{Origin, Destinat...|       {Destination}|\n",
      "|            {Origin}|{Origin, Destinat...|       {Destination}|\n",
      "|            {Origin}|{Origin, Destinat...|       {Destination}|\n",
      "|            {Origin}|{Origin, Destinat...|       {Destination}|\n",
      "|{Asemapäällikönkatu}|{Asemapäällikönka...|{Asemapäällikönkatu}|\n",
      "|{Asemapäällikönkatu}|{Asemapäällikönka...|{Asemapäällikönkatu}|\n",
      "+--------------------+--------------------+--------------------+\n",
      "only showing top 20 rows\n",
      "\n"
     ]
    },
    {
     "name": "stderr",
     "output_type": "stream",
     "text": [
      "                                                                                \r"
     ]
    }
   ],
   "source": [
    "# Find all trips with mode 'BUS'\n",
    "bus_trips = g.find(\"(a)-[e]->(b)\").filter(\"e.mode == 'WALK'\")\n",
    "bus_trips.show()\n"
   ]
  },
  {
   "cell_type": "raw",
   "id": "99af2967-acaa-455e-b94d-469a8e6ac1fb",
   "metadata": {},
   "source": []
  },
  {
   "cell_type": "code",
   "execution_count": 28,
   "id": "90c97ac6-55a9-455c-be60-fbc7b4d79093",
   "metadata": {},
   "outputs": [
    {
     "name": "stdout",
     "output_type": "stream",
     "text": [
      "+---+---+---+\n",
      "|  a|  e|  b|\n",
      "+---+---+---+\n",
      "+---+---+---+\n",
      "\n"
     ]
    }
   ],
   "source": [
    "# Find all trips with mode 'BUS'\n",
    "bus_trips = g.find(\"(a)-[e]->(b)\").filter(\"e.mode == 'TRAIN'\")\n",
    "bus_trips.show()\n"
   ]
  },
  {
   "cell_type": "code",
   "execution_count": 47,
   "id": "46cee6a1-f25f-431b-9d97-0e02aeb55497",
   "metadata": {},
   "outputs": [
    {
     "name": "stdout",
     "output_type": "stream",
     "text": [
      "+---+---+---+\n",
      "|  a|  e|  b|\n",
      "+---+---+---+\n",
      "+---+---+---+\n",
      "\n"
     ]
    }
   ],
   "source": [
    "# Find all trips with mode 'BUS'\n",
    "bus_trips = g.find(\"(a)-[e]->(b)\").filter(\"e.mode == 'SUBWAY'\")\n",
    "bus_trips.show()\n"
   ]
  },
  {
   "cell_type": "code",
   "execution_count": null,
   "id": "55514f10-a35e-49bd-b829-509d30831dc6",
   "metadata": {},
   "outputs": [],
   "source": []
  }
 ],
 "metadata": {
  "kernelspec": {
   "display_name": "Python 3 (ipykernel)",
   "language": "python",
   "name": "python3"
  },
  "language_info": {
   "codemirror_mode": {
    "name": "ipython",
    "version": 3
   },
   "file_extension": ".py",
   "mimetype": "text/x-python",
   "name": "python",
   "nbconvert_exporter": "python",
   "pygments_lexer": "ipython3",
   "version": "3.12.7"
  }
 },
 "nbformat": 4,
 "nbformat_minor": 5
}
